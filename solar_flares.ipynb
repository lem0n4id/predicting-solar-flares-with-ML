{
  "nbformat": 4,
  "nbformat_minor": 0,
  "metadata": {
    "colab": {
      "name": "solar_flares.ipynb",
      "provenance": [],
      "collapsed_sections": []
    },
    "kernelspec": {
      "name": "python3",
      "display_name": "Python 3"
    },
    "language_info": {
      "name": "python"
    }
  },
  "cells": [
    {
      "cell_type": "markdown",
      "source": [
        "# Predicting Solar Flares\n",
        "\n",
        "This is a Logistic Regression Machine Learning model, made from the data and research present in the following research paper.\n",
        "\n",
        "> Song, H., Tan, C., Jing, J. et al. Statistical Assessment of Photospheric Magnetic Features in Imminent Solar Flare Predictions. Sol Phys 254, 101–125 (2009). https://doi.org/10.1007/s11207-008-9288-3"
      ],
      "metadata": {
        "id": "UcdArXXSr22i"
      }
    },
    {
      "cell_type": "markdown",
      "source": [
        "## Introduction\n",
        "\n",
        "Solar flares are large eruptions of electromagnetic radiation from the Sun lasting from minutes to hours. These solar flares can disrupt communication in space and earth too. \n",
        "\n",
        "In this notebook, we try to predict the class of solar flares that could occur based on these 4 factors:\n",
        "\n",
        "1. Lgnl - The length of the strong-gradient neutral line. it describes the global nonpotentiality of an active region.\n",
        "1. Tflux - The total unsigned magnetic flux. it is a measure of the active region’s size.\n",
        "1. Ediss - The total magnetic energy dissipation of Bz.\n",
        "1. Fidx - flare productivity of a given active region in a day.\n",
        "\n",
        "where Bz is the line-of-sight components of the magnetic field measured in the plane (x,y).\n",
        "\n",
        "#### Flare classificaion\n",
        "\n",
        "In the flare event list, \n",
        "- 34 of them (Level = 3) produced X-class flares,\n",
        "- 68 (Level = 2) produced M-class flares,\n",
        "- 65 (Level = 1) produced C-class flares.\n",
        "- the rest of the sample (Level = 0), they either did not produce any flares\n",
        "or produced smaller flares under C-class in the period."
      ],
      "metadata": {
        "id": "wk1QXTi_xt-G"
      }
    },
    {
      "cell_type": "markdown",
      "source": [
        "## The Model\n",
        "\n",
        "We are using LogisticRegression(sklearn) to train our model to predict the levels of solar flares(0-3) that could occur.\n",
        "\n",
        "We used Multinomial Logistic Regression which is a modified version of logistic regression that predicts a multinomial probability (i.e. more than two classes which is our case of level 0-3) for each input example."
      ],
      "metadata": {
        "id": "TieC5sQarFDv"
      }
    },
    {
      "cell_type": "code",
      "execution_count": 1,
      "metadata": {
        "id": "ON8zPittSrg_"
      },
      "outputs": [],
      "source": [
        "# import libraries\n",
        "\n",
        "import pandas as pd\n",
        "import numpy as np\n",
        "import sklearn\n",
        "import sklearn.model_selection\n",
        "from sklearn.linear_model import LogisticRegression\n",
        "from sklearn import metrics \n",
        "from sklearn.metrics import confusion_matrix\n",
        "from sklearn.metrics import classification_report"
      ]
    },
    {
      "cell_type": "markdown",
      "source": [
        "### Description Of Data: \n",
        "\n",
        "From 1998 to 2005, a total of 230 flare events are analyzed. The data is sourced from study of *Photospheric Magnetic Features\n",
        "in Imminent Solar Flare Predictions*. It can be found in the research paper. The dataset contains 230 observations and 5 variables. \n",
        "\n",
        "1. Lgnl\n",
        "1. Tflux\n",
        "1. Ediss\n",
        "1. Fidx\n",
        "1. Level\n",
        "\n"
      ],
      "metadata": {
        "id": "6ixMlTw0cqeN"
      }
    },
    {
      "cell_type": "code",
      "source": [
        "url = 'https://raw.githubusercontent.com/lem0n4id/predicting-solar-flares-with-ML/main/data.csv'\n",
        "data = pd.read_csv(url, header=0)\n",
        "data = data.dropna()\n",
        "print(data.shape)\n",
        "print(list(data.columns))"
      ],
      "metadata": {
        "colab": {
          "base_uri": "https://localhost:8080/"
        },
        "id": "FtuxJOExVWUo",
        "outputId": "917bf929-b1f8-4852-b676-17209efda1c4"
      },
      "execution_count": 2,
      "outputs": [
        {
          "output_type": "stream",
          "name": "stdout",
          "text": [
            "(230, 8)\n",
            "['Date', 'AR#', 'Location', 'Lgnl', 'Tflux', 'Ediss', 'Fidx', 'Level']\n"
          ]
        }
      ]
    },
    {
      "cell_type": "code",
      "source": [
        "data.head()"
      ],
      "metadata": {
        "id": "A7zuSAFaVZEl",
        "colab": {
          "base_uri": "https://localhost:8080/",
          "height": 206
        },
        "outputId": "8dd98cd3-286d-4234-bc85-b3af3a76699f"
      },
      "execution_count": 3,
      "outputs": [
        {
          "output_type": "execute_result",
          "data": {
            "text/plain": [
              "         Date    AR# Location  Lgnl   Tflux   Ediss  Fidx  Level\n",
              "0  17/01/2005  10721   S04E03   0.0  0.0083  0.0073  0.01      0\n",
              "1  23/01/2005  10726   N01W00   0.0  0.0731  0.0588  0.01      0\n",
              "2  02/02/2005  10729   S10W09   0.0  0.0400  0.0366  1.63      0\n",
              "3  08/02/2005  10731   S02W01   0.0  0.0084  0.0086  0.01      0\n",
              "4  02/03/2005  10739   S03W03   0.0  0.0194  0.0162  0.84      0"
            ],
            "text/html": [
              "\n",
              "  <div id=\"df-696a9b2c-0782-4523-9b93-6b4ba1fe55c3\">\n",
              "    <div class=\"colab-df-container\">\n",
              "      <div>\n",
              "<style scoped>\n",
              "    .dataframe tbody tr th:only-of-type {\n",
              "        vertical-align: middle;\n",
              "    }\n",
              "\n",
              "    .dataframe tbody tr th {\n",
              "        vertical-align: top;\n",
              "    }\n",
              "\n",
              "    .dataframe thead th {\n",
              "        text-align: right;\n",
              "    }\n",
              "</style>\n",
              "<table border=\"1\" class=\"dataframe\">\n",
              "  <thead>\n",
              "    <tr style=\"text-align: right;\">\n",
              "      <th></th>\n",
              "      <th>Date</th>\n",
              "      <th>AR#</th>\n",
              "      <th>Location</th>\n",
              "      <th>Lgnl</th>\n",
              "      <th>Tflux</th>\n",
              "      <th>Ediss</th>\n",
              "      <th>Fidx</th>\n",
              "      <th>Level</th>\n",
              "    </tr>\n",
              "  </thead>\n",
              "  <tbody>\n",
              "    <tr>\n",
              "      <th>0</th>\n",
              "      <td>17/01/2005</td>\n",
              "      <td>10721</td>\n",
              "      <td>S04E03</td>\n",
              "      <td>0.0</td>\n",
              "      <td>0.0083</td>\n",
              "      <td>0.0073</td>\n",
              "      <td>0.01</td>\n",
              "      <td>0</td>\n",
              "    </tr>\n",
              "    <tr>\n",
              "      <th>1</th>\n",
              "      <td>23/01/2005</td>\n",
              "      <td>10726</td>\n",
              "      <td>N01W00</td>\n",
              "      <td>0.0</td>\n",
              "      <td>0.0731</td>\n",
              "      <td>0.0588</td>\n",
              "      <td>0.01</td>\n",
              "      <td>0</td>\n",
              "    </tr>\n",
              "    <tr>\n",
              "      <th>2</th>\n",
              "      <td>02/02/2005</td>\n",
              "      <td>10729</td>\n",
              "      <td>S10W09</td>\n",
              "      <td>0.0</td>\n",
              "      <td>0.0400</td>\n",
              "      <td>0.0366</td>\n",
              "      <td>1.63</td>\n",
              "      <td>0</td>\n",
              "    </tr>\n",
              "    <tr>\n",
              "      <th>3</th>\n",
              "      <td>08/02/2005</td>\n",
              "      <td>10731</td>\n",
              "      <td>S02W01</td>\n",
              "      <td>0.0</td>\n",
              "      <td>0.0084</td>\n",
              "      <td>0.0086</td>\n",
              "      <td>0.01</td>\n",
              "      <td>0</td>\n",
              "    </tr>\n",
              "    <tr>\n",
              "      <th>4</th>\n",
              "      <td>02/03/2005</td>\n",
              "      <td>10739</td>\n",
              "      <td>S03W03</td>\n",
              "      <td>0.0</td>\n",
              "      <td>0.0194</td>\n",
              "      <td>0.0162</td>\n",
              "      <td>0.84</td>\n",
              "      <td>0</td>\n",
              "    </tr>\n",
              "  </tbody>\n",
              "</table>\n",
              "</div>\n",
              "      <button class=\"colab-df-convert\" onclick=\"convertToInteractive('df-696a9b2c-0782-4523-9b93-6b4ba1fe55c3')\"\n",
              "              title=\"Convert this dataframe to an interactive table.\"\n",
              "              style=\"display:none;\">\n",
              "        \n",
              "  <svg xmlns=\"http://www.w3.org/2000/svg\" height=\"24px\"viewBox=\"0 0 24 24\"\n",
              "       width=\"24px\">\n",
              "    <path d=\"M0 0h24v24H0V0z\" fill=\"none\"/>\n",
              "    <path d=\"M18.56 5.44l.94 2.06.94-2.06 2.06-.94-2.06-.94-.94-2.06-.94 2.06-2.06.94zm-11 1L8.5 8.5l.94-2.06 2.06-.94-2.06-.94L8.5 2.5l-.94 2.06-2.06.94zm10 10l.94 2.06.94-2.06 2.06-.94-2.06-.94-.94-2.06-.94 2.06-2.06.94z\"/><path d=\"M17.41 7.96l-1.37-1.37c-.4-.4-.92-.59-1.43-.59-.52 0-1.04.2-1.43.59L10.3 9.45l-7.72 7.72c-.78.78-.78 2.05 0 2.83L4 21.41c.39.39.9.59 1.41.59.51 0 1.02-.2 1.41-.59l7.78-7.78 2.81-2.81c.8-.78.8-2.07 0-2.86zM5.41 20L4 18.59l7.72-7.72 1.47 1.35L5.41 20z\"/>\n",
              "  </svg>\n",
              "      </button>\n",
              "      \n",
              "  <style>\n",
              "    .colab-df-container {\n",
              "      display:flex;\n",
              "      flex-wrap:wrap;\n",
              "      gap: 12px;\n",
              "    }\n",
              "\n",
              "    .colab-df-convert {\n",
              "      background-color: #E8F0FE;\n",
              "      border: none;\n",
              "      border-radius: 50%;\n",
              "      cursor: pointer;\n",
              "      display: none;\n",
              "      fill: #1967D2;\n",
              "      height: 32px;\n",
              "      padding: 0 0 0 0;\n",
              "      width: 32px;\n",
              "    }\n",
              "\n",
              "    .colab-df-convert:hover {\n",
              "      background-color: #E2EBFA;\n",
              "      box-shadow: 0px 1px 2px rgba(60, 64, 67, 0.3), 0px 1px 3px 1px rgba(60, 64, 67, 0.15);\n",
              "      fill: #174EA6;\n",
              "    }\n",
              "\n",
              "    [theme=dark] .colab-df-convert {\n",
              "      background-color: #3B4455;\n",
              "      fill: #D2E3FC;\n",
              "    }\n",
              "\n",
              "    [theme=dark] .colab-df-convert:hover {\n",
              "      background-color: #434B5C;\n",
              "      box-shadow: 0px 1px 3px 1px rgba(0, 0, 0, 0.15);\n",
              "      filter: drop-shadow(0px 1px 2px rgba(0, 0, 0, 0.3));\n",
              "      fill: #FFFFFF;\n",
              "    }\n",
              "  </style>\n",
              "\n",
              "      <script>\n",
              "        const buttonEl =\n",
              "          document.querySelector('#df-696a9b2c-0782-4523-9b93-6b4ba1fe55c3 button.colab-df-convert');\n",
              "        buttonEl.style.display =\n",
              "          google.colab.kernel.accessAllowed ? 'block' : 'none';\n",
              "\n",
              "        async function convertToInteractive(key) {\n",
              "          const element = document.querySelector('#df-696a9b2c-0782-4523-9b93-6b4ba1fe55c3');\n",
              "          const dataTable =\n",
              "            await google.colab.kernel.invokeFunction('convertToInteractive',\n",
              "                                                     [key], {});\n",
              "          if (!dataTable) return;\n",
              "\n",
              "          const docLinkHtml = 'Like what you see? Visit the ' +\n",
              "            '<a target=\"_blank\" href=https://colab.research.google.com/notebooks/data_table.ipynb>data table notebook</a>'\n",
              "            + ' to learn more about interactive tables.';\n",
              "          element.innerHTML = '';\n",
              "          dataTable['output_type'] = 'display_data';\n",
              "          await google.colab.output.renderOutput(dataTable, element);\n",
              "          const docLink = document.createElement('div');\n",
              "          docLink.innerHTML = docLinkHtml;\n",
              "          element.appendChild(docLink);\n",
              "        }\n",
              "      </script>\n",
              "    </div>\n",
              "  </div>\n",
              "  "
            ]
          },
          "metadata": {},
          "execution_count": 3
        }
      ]
    },
    {
      "cell_type": "code",
      "source": [
        "cols=['Lgnl', 'Tflux', 'Ediss', 'Fidx']\n",
        "X=data[cols]\n",
        "y=data['Level']"
      ],
      "metadata": {
        "id": "wAUIJ7KxW_Kw"
      },
      "execution_count": 4,
      "outputs": []
    },
    {
      "cell_type": "code",
      "source": [
        "X.head()"
      ],
      "metadata": {
        "id": "tszFnPF3X6yR",
        "colab": {
          "base_uri": "https://localhost:8080/",
          "height": 206
        },
        "outputId": "636f62a1-2983-4099-cfba-e25a8bb99ad2"
      },
      "execution_count": 5,
      "outputs": [
        {
          "output_type": "execute_result",
          "data": {
            "text/plain": [
              "   Lgnl   Tflux   Ediss  Fidx\n",
              "0   0.0  0.0083  0.0073  0.01\n",
              "1   0.0  0.0731  0.0588  0.01\n",
              "2   0.0  0.0400  0.0366  1.63\n",
              "3   0.0  0.0084  0.0086  0.01\n",
              "4   0.0  0.0194  0.0162  0.84"
            ],
            "text/html": [
              "\n",
              "  <div id=\"df-08858ead-50f3-4552-961d-9c737e9c6c0a\">\n",
              "    <div class=\"colab-df-container\">\n",
              "      <div>\n",
              "<style scoped>\n",
              "    .dataframe tbody tr th:only-of-type {\n",
              "        vertical-align: middle;\n",
              "    }\n",
              "\n",
              "    .dataframe tbody tr th {\n",
              "        vertical-align: top;\n",
              "    }\n",
              "\n",
              "    .dataframe thead th {\n",
              "        text-align: right;\n",
              "    }\n",
              "</style>\n",
              "<table border=\"1\" class=\"dataframe\">\n",
              "  <thead>\n",
              "    <tr style=\"text-align: right;\">\n",
              "      <th></th>\n",
              "      <th>Lgnl</th>\n",
              "      <th>Tflux</th>\n",
              "      <th>Ediss</th>\n",
              "      <th>Fidx</th>\n",
              "    </tr>\n",
              "  </thead>\n",
              "  <tbody>\n",
              "    <tr>\n",
              "      <th>0</th>\n",
              "      <td>0.0</td>\n",
              "      <td>0.0083</td>\n",
              "      <td>0.0073</td>\n",
              "      <td>0.01</td>\n",
              "    </tr>\n",
              "    <tr>\n",
              "      <th>1</th>\n",
              "      <td>0.0</td>\n",
              "      <td>0.0731</td>\n",
              "      <td>0.0588</td>\n",
              "      <td>0.01</td>\n",
              "    </tr>\n",
              "    <tr>\n",
              "      <th>2</th>\n",
              "      <td>0.0</td>\n",
              "      <td>0.0400</td>\n",
              "      <td>0.0366</td>\n",
              "      <td>1.63</td>\n",
              "    </tr>\n",
              "    <tr>\n",
              "      <th>3</th>\n",
              "      <td>0.0</td>\n",
              "      <td>0.0084</td>\n",
              "      <td>0.0086</td>\n",
              "      <td>0.01</td>\n",
              "    </tr>\n",
              "    <tr>\n",
              "      <th>4</th>\n",
              "      <td>0.0</td>\n",
              "      <td>0.0194</td>\n",
              "      <td>0.0162</td>\n",
              "      <td>0.84</td>\n",
              "    </tr>\n",
              "  </tbody>\n",
              "</table>\n",
              "</div>\n",
              "      <button class=\"colab-df-convert\" onclick=\"convertToInteractive('df-08858ead-50f3-4552-961d-9c737e9c6c0a')\"\n",
              "              title=\"Convert this dataframe to an interactive table.\"\n",
              "              style=\"display:none;\">\n",
              "        \n",
              "  <svg xmlns=\"http://www.w3.org/2000/svg\" height=\"24px\"viewBox=\"0 0 24 24\"\n",
              "       width=\"24px\">\n",
              "    <path d=\"M0 0h24v24H0V0z\" fill=\"none\"/>\n",
              "    <path d=\"M18.56 5.44l.94 2.06.94-2.06 2.06-.94-2.06-.94-.94-2.06-.94 2.06-2.06.94zm-11 1L8.5 8.5l.94-2.06 2.06-.94-2.06-.94L8.5 2.5l-.94 2.06-2.06.94zm10 10l.94 2.06.94-2.06 2.06-.94-2.06-.94-.94-2.06-.94 2.06-2.06.94z\"/><path d=\"M17.41 7.96l-1.37-1.37c-.4-.4-.92-.59-1.43-.59-.52 0-1.04.2-1.43.59L10.3 9.45l-7.72 7.72c-.78.78-.78 2.05 0 2.83L4 21.41c.39.39.9.59 1.41.59.51 0 1.02-.2 1.41-.59l7.78-7.78 2.81-2.81c.8-.78.8-2.07 0-2.86zM5.41 20L4 18.59l7.72-7.72 1.47 1.35L5.41 20z\"/>\n",
              "  </svg>\n",
              "      </button>\n",
              "      \n",
              "  <style>\n",
              "    .colab-df-container {\n",
              "      display:flex;\n",
              "      flex-wrap:wrap;\n",
              "      gap: 12px;\n",
              "    }\n",
              "\n",
              "    .colab-df-convert {\n",
              "      background-color: #E8F0FE;\n",
              "      border: none;\n",
              "      border-radius: 50%;\n",
              "      cursor: pointer;\n",
              "      display: none;\n",
              "      fill: #1967D2;\n",
              "      height: 32px;\n",
              "      padding: 0 0 0 0;\n",
              "      width: 32px;\n",
              "    }\n",
              "\n",
              "    .colab-df-convert:hover {\n",
              "      background-color: #E2EBFA;\n",
              "      box-shadow: 0px 1px 2px rgba(60, 64, 67, 0.3), 0px 1px 3px 1px rgba(60, 64, 67, 0.15);\n",
              "      fill: #174EA6;\n",
              "    }\n",
              "\n",
              "    [theme=dark] .colab-df-convert {\n",
              "      background-color: #3B4455;\n",
              "      fill: #D2E3FC;\n",
              "    }\n",
              "\n",
              "    [theme=dark] .colab-df-convert:hover {\n",
              "      background-color: #434B5C;\n",
              "      box-shadow: 0px 1px 3px 1px rgba(0, 0, 0, 0.15);\n",
              "      filter: drop-shadow(0px 1px 2px rgba(0, 0, 0, 0.3));\n",
              "      fill: #FFFFFF;\n",
              "    }\n",
              "  </style>\n",
              "\n",
              "      <script>\n",
              "        const buttonEl =\n",
              "          document.querySelector('#df-08858ead-50f3-4552-961d-9c737e9c6c0a button.colab-df-convert');\n",
              "        buttonEl.style.display =\n",
              "          google.colab.kernel.accessAllowed ? 'block' : 'none';\n",
              "\n",
              "        async function convertToInteractive(key) {\n",
              "          const element = document.querySelector('#df-08858ead-50f3-4552-961d-9c737e9c6c0a');\n",
              "          const dataTable =\n",
              "            await google.colab.kernel.invokeFunction('convertToInteractive',\n",
              "                                                     [key], {});\n",
              "          if (!dataTable) return;\n",
              "\n",
              "          const docLinkHtml = 'Like what you see? Visit the ' +\n",
              "            '<a target=\"_blank\" href=https://colab.research.google.com/notebooks/data_table.ipynb>data table notebook</a>'\n",
              "            + ' to learn more about interactive tables.';\n",
              "          element.innerHTML = '';\n",
              "          dataTable['output_type'] = 'display_data';\n",
              "          await google.colab.output.renderOutput(dataTable, element);\n",
              "          const docLink = document.createElement('div');\n",
              "          docLink.innerHTML = docLinkHtml;\n",
              "          element.appendChild(docLink);\n",
              "        }\n",
              "      </script>\n",
              "    </div>\n",
              "  </div>\n",
              "  "
            ]
          },
          "metadata": {},
          "execution_count": 5
        }
      ]
    },
    {
      "cell_type": "code",
      "source": [
        "# spliting the data into training and test data\n",
        "\n",
        "X_train, X_test, y_train, y_test = sklearn.model_selection.train_test_split(X, y, test_size = 0.20, random_state = 5)"
      ],
      "metadata": {
        "id": "h6QTCWsueVFw"
      },
      "execution_count": 6,
      "outputs": []
    },
    {
      "cell_type": "code",
      "source": [
        "# training the model\n",
        "\n",
        "model1 = LogisticRegression(random_state=0, multi_class='multinomial', penalty='none', solver='newton-cg').fit(X_train, y_train)\n",
        "preds = model1.predict(X_test)"
      ],
      "metadata": {
        "id": "qIGkFHdGe4Pa"
      },
      "execution_count": 7,
      "outputs": []
    },
    {
      "cell_type": "code",
      "source": [
        "# predicting the level of a solar flare - single entry\n",
        "\n",
        "data_entry_row = 1\n",
        "print(X_test.iloc[data_entry_row])\n",
        "print()\n",
        "\n",
        "level_p = model1.predict([X_test.iloc[data_entry_row]])\n",
        "\n",
        "print(\"level of flare predicted: \", level_p[0])\n",
        "print(\"actual level of flare: \", y_test.iloc[data_entry_row])\n"
      ],
      "metadata": {
        "colab": {
          "base_uri": "https://localhost:8080/"
        },
        "id": "Rm9NmUakKxkP",
        "outputId": "478b2b69-17b6-41fa-f1e9-ec44fc0df091"
      },
      "execution_count": 8,
      "outputs": [
        {
          "output_type": "stream",
          "name": "stdout",
          "text": [
            "Lgnl      0.0893\n",
            "Tflux     0.1074\n",
            "Ediss     0.0994\n",
            "Fidx     60.6000\n",
            "Name: 90, dtype: float64\n",
            "\n",
            "level of flare predicted:  2\n",
            "actual level of flare:  1\n"
          ]
        },
        {
          "output_type": "stream",
          "name": "stderr",
          "text": [
            "/usr/local/lib/python3.7/dist-packages/sklearn/base.py:451: UserWarning: X does not have valid feature names, but LogisticRegression was fitted with feature names\n",
            "  \"X does not have valid feature names, but\"\n"
          ]
        }
      ]
    },
    {
      "cell_type": "markdown",
      "source": [
        "## Visualizing results\n",
        "\n",
        "Here, we're using a confusion matrix, accuracy score and a classification report to understand how our model is performing."
      ],
      "metadata": {
        "id": "Ps5FtbYLNKlP"
      }
    },
    {
      "cell_type": "code",
      "source": [
        "# transform confusion matrix into array\n",
        "\n",
        "confmtrx = np.array(confusion_matrix(y_test, preds))\n",
        "\n",
        "\n",
        "\"\"\"\n",
        "Create DataFrame from confmtrx array \n",
        "rows for test: 0, 1, 2, 3\n",
        "columns for preds: predicted_0, predicted_1, predicted_2, predicted_3\n",
        "\"\"\"\n",
        "\n",
        "pd.DataFrame(confmtrx, \n",
        "             index=['0', '1', '2', '3'], \n",
        "             columns=['predicted_0', 'predicted_1', 'predicted_2', 'predicted_3'])"
      ],
      "metadata": {
        "id": "1P-Ida5wfqQA",
        "colab": {
          "base_uri": "https://localhost:8080/",
          "height": 175
        },
        "outputId": "e5e88a94-7d34-4992-822b-14e3dfc3b1ac"
      },
      "execution_count": 9,
      "outputs": [
        {
          "output_type": "execute_result",
          "data": {
            "text/plain": [
              "   predicted_0  predicted_1  predicted_2  predicted_3\n",
              "0           15            0            0            0\n",
              "1            2            0           13            1\n",
              "2            2            0            5            2\n",
              "3            0            0            3            3"
            ],
            "text/html": [
              "\n",
              "  <div id=\"df-69178aa2-01b5-423c-8950-a8ad0b12de7f\">\n",
              "    <div class=\"colab-df-container\">\n",
              "      <div>\n",
              "<style scoped>\n",
              "    .dataframe tbody tr th:only-of-type {\n",
              "        vertical-align: middle;\n",
              "    }\n",
              "\n",
              "    .dataframe tbody tr th {\n",
              "        vertical-align: top;\n",
              "    }\n",
              "\n",
              "    .dataframe thead th {\n",
              "        text-align: right;\n",
              "    }\n",
              "</style>\n",
              "<table border=\"1\" class=\"dataframe\">\n",
              "  <thead>\n",
              "    <tr style=\"text-align: right;\">\n",
              "      <th></th>\n",
              "      <th>predicted_0</th>\n",
              "      <th>predicted_1</th>\n",
              "      <th>predicted_2</th>\n",
              "      <th>predicted_3</th>\n",
              "    </tr>\n",
              "  </thead>\n",
              "  <tbody>\n",
              "    <tr>\n",
              "      <th>0</th>\n",
              "      <td>15</td>\n",
              "      <td>0</td>\n",
              "      <td>0</td>\n",
              "      <td>0</td>\n",
              "    </tr>\n",
              "    <tr>\n",
              "      <th>1</th>\n",
              "      <td>2</td>\n",
              "      <td>0</td>\n",
              "      <td>13</td>\n",
              "      <td>1</td>\n",
              "    </tr>\n",
              "    <tr>\n",
              "      <th>2</th>\n",
              "      <td>2</td>\n",
              "      <td>0</td>\n",
              "      <td>5</td>\n",
              "      <td>2</td>\n",
              "    </tr>\n",
              "    <tr>\n",
              "      <th>3</th>\n",
              "      <td>0</td>\n",
              "      <td>0</td>\n",
              "      <td>3</td>\n",
              "      <td>3</td>\n",
              "    </tr>\n",
              "  </tbody>\n",
              "</table>\n",
              "</div>\n",
              "      <button class=\"colab-df-convert\" onclick=\"convertToInteractive('df-69178aa2-01b5-423c-8950-a8ad0b12de7f')\"\n",
              "              title=\"Convert this dataframe to an interactive table.\"\n",
              "              style=\"display:none;\">\n",
              "        \n",
              "  <svg xmlns=\"http://www.w3.org/2000/svg\" height=\"24px\"viewBox=\"0 0 24 24\"\n",
              "       width=\"24px\">\n",
              "    <path d=\"M0 0h24v24H0V0z\" fill=\"none\"/>\n",
              "    <path d=\"M18.56 5.44l.94 2.06.94-2.06 2.06-.94-2.06-.94-.94-2.06-.94 2.06-2.06.94zm-11 1L8.5 8.5l.94-2.06 2.06-.94-2.06-.94L8.5 2.5l-.94 2.06-2.06.94zm10 10l.94 2.06.94-2.06 2.06-.94-2.06-.94-.94-2.06-.94 2.06-2.06.94z\"/><path d=\"M17.41 7.96l-1.37-1.37c-.4-.4-.92-.59-1.43-.59-.52 0-1.04.2-1.43.59L10.3 9.45l-7.72 7.72c-.78.78-.78 2.05 0 2.83L4 21.41c.39.39.9.59 1.41.59.51 0 1.02-.2 1.41-.59l7.78-7.78 2.81-2.81c.8-.78.8-2.07 0-2.86zM5.41 20L4 18.59l7.72-7.72 1.47 1.35L5.41 20z\"/>\n",
              "  </svg>\n",
              "      </button>\n",
              "      \n",
              "  <style>\n",
              "    .colab-df-container {\n",
              "      display:flex;\n",
              "      flex-wrap:wrap;\n",
              "      gap: 12px;\n",
              "    }\n",
              "\n",
              "    .colab-df-convert {\n",
              "      background-color: #E8F0FE;\n",
              "      border: none;\n",
              "      border-radius: 50%;\n",
              "      cursor: pointer;\n",
              "      display: none;\n",
              "      fill: #1967D2;\n",
              "      height: 32px;\n",
              "      padding: 0 0 0 0;\n",
              "      width: 32px;\n",
              "    }\n",
              "\n",
              "    .colab-df-convert:hover {\n",
              "      background-color: #E2EBFA;\n",
              "      box-shadow: 0px 1px 2px rgba(60, 64, 67, 0.3), 0px 1px 3px 1px rgba(60, 64, 67, 0.15);\n",
              "      fill: #174EA6;\n",
              "    }\n",
              "\n",
              "    [theme=dark] .colab-df-convert {\n",
              "      background-color: #3B4455;\n",
              "      fill: #D2E3FC;\n",
              "    }\n",
              "\n",
              "    [theme=dark] .colab-df-convert:hover {\n",
              "      background-color: #434B5C;\n",
              "      box-shadow: 0px 1px 3px 1px rgba(0, 0, 0, 0.15);\n",
              "      filter: drop-shadow(0px 1px 2px rgba(0, 0, 0, 0.3));\n",
              "      fill: #FFFFFF;\n",
              "    }\n",
              "  </style>\n",
              "\n",
              "      <script>\n",
              "        const buttonEl =\n",
              "          document.querySelector('#df-69178aa2-01b5-423c-8950-a8ad0b12de7f button.colab-df-convert');\n",
              "        buttonEl.style.display =\n",
              "          google.colab.kernel.accessAllowed ? 'block' : 'none';\n",
              "\n",
              "        async function convertToInteractive(key) {\n",
              "          const element = document.querySelector('#df-69178aa2-01b5-423c-8950-a8ad0b12de7f');\n",
              "          const dataTable =\n",
              "            await google.colab.kernel.invokeFunction('convertToInteractive',\n",
              "                                                     [key], {});\n",
              "          if (!dataTable) return;\n",
              "\n",
              "          const docLinkHtml = 'Like what you see? Visit the ' +\n",
              "            '<a target=\"_blank\" href=https://colab.research.google.com/notebooks/data_table.ipynb>data table notebook</a>'\n",
              "            + ' to learn more about interactive tables.';\n",
              "          element.innerHTML = '';\n",
              "          dataTable['output_type'] = 'display_data';\n",
              "          await google.colab.output.renderOutput(dataTable, element);\n",
              "          const docLink = document.createElement('div');\n",
              "          docLink.innerHTML = docLinkHtml;\n",
              "          element.appendChild(docLink);\n",
              "        }\n",
              "      </script>\n",
              "    </div>\n",
              "  </div>\n",
              "  "
            ]
          },
          "metadata": {},
          "execution_count": 9
        }
      ]
    },
    {
      "cell_type": "code",
      "source": [
        "#Accuracy statistics\n",
        "accuracy_score = metrics.accuracy_score(y_test, preds) * 100 # in percetage\n",
        "print('Accuracy Score(in %):', accuracy_score)  \n",
        "\n",
        "print()\n",
        "\n",
        "#Create classification report\n",
        "class_report=classification_report(y_test, preds, zero_division=0)\n",
        "print(class_report)\n"
      ],
      "metadata": {
        "id": "NNyue8M3gLb9",
        "colab": {
          "base_uri": "https://localhost:8080/"
        },
        "outputId": "3bd0452a-ad03-4aba-e123-045ea67ffee3"
      },
      "execution_count": 10,
      "outputs": [
        {
          "output_type": "stream",
          "name": "stdout",
          "text": [
            "Accuracy Score(in %): 50.0\n",
            "\n",
            "              precision    recall  f1-score   support\n",
            "\n",
            "           0       0.79      1.00      0.88        15\n",
            "           1       0.00      0.00      0.00        16\n",
            "           2       0.24      0.56      0.33         9\n",
            "           3       0.50      0.50      0.50         6\n",
            "\n",
            "    accuracy                           0.50        46\n",
            "   macro avg       0.38      0.51      0.43        46\n",
            "weighted avg       0.37      0.50      0.42        46\n",
            "\n"
          ]
        }
      ]
    },
    {
      "cell_type": "markdown",
      "source": [
        "## Conclusion\n",
        "\n",
        "- From the above cell, we can see that we get a accuracy score of 50% which is similar to what they got.\n",
        "\n",
        "- We can also see the classification report which gives a good picture of how our model is performing.\n",
        "\n",
        "- We observe that the model is performing really poor in distuinglishing level 2 solar flares. \n",
        "\n",
        "    This is probably due to the small size of data and lack of good enough parameters to enable the model to understand it.\n",
        "\n",
        "---\n",
        "\n",
        "The authors of the research paper mention that this method is promising, but needs a better set of features and a larger dataset.\n",
        "\n",
        "Further research in this field is required."
      ],
      "metadata": {
        "id": "4JWTGhnkPQnh"
      }
    }
  ]
}